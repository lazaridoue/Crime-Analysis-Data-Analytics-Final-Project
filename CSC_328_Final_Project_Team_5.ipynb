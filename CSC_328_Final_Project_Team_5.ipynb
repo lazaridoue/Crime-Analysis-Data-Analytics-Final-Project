{
  "nbformat": 4,
  "nbformat_minor": 0,
  "metadata": {
    "colab": {
      "name": "CSC 328 Final Project - Team 5 ",
      "provenance": [],
      "collapsed_sections": [],
      "include_colab_link": true
    },
    "kernelspec": {
      "name": "python3",
      "display_name": "Python 3"
    }
  },
  "cells": [
    {
      "cell_type": "markdown",
      "metadata": {
        "id": "view-in-github",
        "colab_type": "text"
      },
      "source": [
        "<a href=\"https://colab.research.google.com/github/lazaridoue/Crime-Analysis-Data-Analytics-Final-Project/blob/main/CSC_328_Final_Project_Team_5.ipynb\" target=\"_parent\"><img src=\"https://colab.research.google.com/assets/colab-badge.svg\" alt=\"Open In Colab\"/></a>"
      ]
    },
    {
      "cell_type": "markdown",
      "metadata": {
        "id": "2xI4MurJCNY1"
      },
      "source": [
        "# Crime Analysis Final Project\n",
        "\n",
        "\n",
        "#### BUS-CSC328 Data Analytics, Berea College\n",
        "#### Bryan Epperson, Eleni L. , Jeremy Campbell \n",
        "## Introduction \n",
        "\n",
        "**Hypothesis:** We believe that the level of unemployment  in the US directly correlates with crime rate. For example, the lower the level of unemployment, we would expect for the crime rate to decrease, and for the higher level of unemployment, to have an increase in crime rate. \n",
        "\n",
        "**Introduction to the topic** What would you consider the definition of crime? According to Merriam Webster’s online dictionary, crime can be defined as, “An illegal act for which someone can be punished by the government.” (Merriam-Webster, n.d)). Crime rate then, can be seen as the numerical value of crimes per population. By understanding crime, we can begin to wonder what influences the rate than individuals would engage in criminal activity. Is this an issue of morality, or are we dealing with issues such as survival, individual’s doing what they can with what they have to sustain themselves? We are examining the link between the crime rate and level of unemployment that the US is experiencing. Our hypothesis looks to confirm or reject the idea that the higher the level of unemployment that the US is experiencing, we expect the crime rate to increase. After our analysis, we will also explore social factors that could be indicative of why our hypothesis was supported or rejected by our data analysis. \n",
        " \n",
        "\n",
        "**Why it was of interest to the group:** Given the current economic and political climate of the US, we are interested to know if the two do indeed have a relationship and what that relationship can reveal socially about individuals who do not have employment. For those who do have a job, there is a level of financial certainty and food security that exists, and could help explain through research why those without a job  have a tendency for increased crime. \n",
        "\n",
        "**What we hope to learn from our research:** At the conclusion of our research, we hope to better understand how employment status, race of incarcerated individuals, state, and  crime type are associated between unemployment and overall crime rate. \n",
        "\n",
        "\n",
        "\n"
      ]
    },
    {
      "cell_type": "markdown",
      "metadata": {
        "id": "SeLUiJB8C024"
      },
      "source": [
        "## Data Cleaning\n",
        " In an effort to standardize the datasets, we deleted irrelevant information such as info on 2015, and percentage difference in crime rate from the crime rates excel document. In addition, we had to delete spaces in the unemployment rate of the 50 states for our merge in the data exploration stage. All references will be recorded and their old states will be available for review if needed to ensure that we as the data analysts are doing our part in representing an honest interpretation of real data. \n",
        "\n"
      ]
    },
    {
      "cell_type": "markdown",
      "metadata": {
        "id": "6MmWp-Ksnucs"
      },
      "source": [
        "## Business Context \n",
        "Crime has been an important topic in the United States for several years. In our project we are focusing on the year of 2014 and the crime rate for all states. We all know that unemployment can cause a great upset in one’s life. As much as we would hope that individuals would be able to find gainful employment that would provide them some security and discourage them from engaging in crime, the reality varies greatly. Thus, we compared how the unemployment rate affects the crime rate. \n",
        "\n",
        "We noticed that individuals working full time on the current minimum wage live approximately $2000 below the federal poverty line.(Scott, n.d.)\n",
        "\n",
        " When an individual lives at or below the poverty line, the risks of engaging in crime diminish as they operate on a survival basis. Drawing upon the preceding observations, unemployment rate can be seen to be correlated with crime rate. In a business perspective, it is important to make gainful employment more attractive to workers who are struggling to discourage criminal activity, and encourage them to remain within the workforce. More workers in the workforce allows for a greater diversification in skills, and ultimately pays off in the long term strategy of organizations everywhere. \n"
      ]
    },
    {
      "cell_type": "markdown",
      "metadata": {
        "id": "ypqmIBkVnzdY"
      },
      "source": [
        "## Research Questions\n",
        "1. Does the data have a sufficient size and credibility fit for data analysis?\n",
        "2. What is the total crime rate in the US?\n",
        "3. What is the total Unemployment rate in the US?\n",
        "3. Which states in the United states have the highest crime rates?\n",
        "4. What year between 1960-2014 had the highest violent crimes, and why?\n",
        "5. How does unemployment level affect crime rate?\n",
        "6. How does poverty level affect crime rate?\n",
        "7. How does crime rate disproportionately affect race?\n",
        "8. What can we learn from the relationship between unemployment rate and crime rate.\n"
      ]
    },
    {
      "cell_type": "markdown",
      "metadata": {
        "id": "o--3cWKeCXOW"
      },
      "source": [
        "## Data Exploration"
      ]
    },
    {
      "cell_type": "markdown",
      "metadata": {
        "id": "DpzZ9bAYNsr1"
      },
      "source": [
        "The below represent the import statements we used for the project. "
      ]
    },
    {
      "cell_type": "code",
      "metadata": {
        "id": "D1cQrmZBpOmg"
      },
      "source": [
        "import pandas as pd\n",
        "import altair as alt\n",
        "from altair import Chart, X, Y\n",
        "from vega_datasets import data\n",
        "import plotly.express as px \n",
        "from sklearn.model_selection import train_test_split\n",
        "from sklearn.linear_model import LinearRegression\n",
        "import matplotlib.pyplot as plt"
      ],
      "execution_count": 1,
      "outputs": []
    },
    {
      "cell_type": "markdown",
      "metadata": {
        "id": "JqLFyCaEFqyF"
      },
      "source": [
        "### Describing the data\n",
        "Crime_US_total.xlsx is a dataset of all the crimes between the years of 1960-2014. It shows the year (Year), population of the United States (Population), the total number of Violent Crimes (Violent crime total) include homicide, murder, assault, manslaughter, sexual assault, rape, robbery, kidnapping (abduction), and harassment., the number of murders and nonnegligent manslaughter (Murder and nonnegligent Manslaughter) which is a premidiated or willingful killing, Legacy rape (Legacy rape /1) which is rape by force, Revised Rape (Revised rape /2) which is rape which is attempts and assaults of rape,Robbery (Robbery), and Aggravated assault (Aggravated assault)"
      ]
    },
    {
      "cell_type": "code",
      "metadata": {
        "id": "uOFTr41uvbSM",
        "outputId": "729227c2-d207-406e-f0d0-1a5a8f9f0eaf",
        "colab": {
          "base_uri": "https://localhost:8080/",
          "height": 370
        }
      },
      "source": [
        "#Importing the Crime_US_total.xlsx file\n",
        "file1 = pd.read_excel('Crime_US_total.xlsx')\n",
        "file1.head()"
      ],
      "execution_count": 2,
      "outputs": [
        {
          "output_type": "error",
          "ename": "FileNotFoundError",
          "evalue": "ignored",
          "traceback": [
            "\u001b[0;31m---------------------------------------------------------------------------\u001b[0m",
            "\u001b[0;31mFileNotFoundError\u001b[0m                         Traceback (most recent call last)",
            "\u001b[0;32m<ipython-input-2-602be8c74600>\u001b[0m in \u001b[0;36m<module>\u001b[0;34m()\u001b[0m\n\u001b[1;32m      1\u001b[0m \u001b[0;31m#Importing the Crime_US_total.xlsx file\u001b[0m\u001b[0;34m\u001b[0m\u001b[0;34m\u001b[0m\u001b[0;34m\u001b[0m\u001b[0m\n\u001b[0;32m----> 2\u001b[0;31m \u001b[0mfile1\u001b[0m \u001b[0;34m=\u001b[0m \u001b[0mpd\u001b[0m\u001b[0;34m.\u001b[0m\u001b[0mread_excel\u001b[0m\u001b[0;34m(\u001b[0m\u001b[0;34m'Crime_US_total.xlsx'\u001b[0m\u001b[0;34m)\u001b[0m\u001b[0;34m\u001b[0m\u001b[0;34m\u001b[0m\u001b[0m\n\u001b[0m\u001b[1;32m      3\u001b[0m \u001b[0mfile1\u001b[0m\u001b[0;34m.\u001b[0m\u001b[0mhead\u001b[0m\u001b[0;34m(\u001b[0m\u001b[0;34m)\u001b[0m\u001b[0;34m\u001b[0m\u001b[0;34m\u001b[0m\u001b[0m\n",
            "\u001b[0;32m/usr/local/lib/python3.6/dist-packages/pandas/util/_decorators.py\u001b[0m in \u001b[0;36mwrapper\u001b[0;34m(*args, **kwargs)\u001b[0m\n\u001b[1;32m    294\u001b[0m                 )\n\u001b[1;32m    295\u001b[0m                 \u001b[0mwarnings\u001b[0m\u001b[0;34m.\u001b[0m\u001b[0mwarn\u001b[0m\u001b[0;34m(\u001b[0m\u001b[0mmsg\u001b[0m\u001b[0;34m,\u001b[0m \u001b[0mFutureWarning\u001b[0m\u001b[0;34m,\u001b[0m \u001b[0mstacklevel\u001b[0m\u001b[0;34m=\u001b[0m\u001b[0mstacklevel\u001b[0m\u001b[0;34m)\u001b[0m\u001b[0;34m\u001b[0m\u001b[0;34m\u001b[0m\u001b[0m\n\u001b[0;32m--> 296\u001b[0;31m             \u001b[0;32mreturn\u001b[0m \u001b[0mfunc\u001b[0m\u001b[0;34m(\u001b[0m\u001b[0;34m*\u001b[0m\u001b[0margs\u001b[0m\u001b[0;34m,\u001b[0m \u001b[0;34m**\u001b[0m\u001b[0mkwargs\u001b[0m\u001b[0;34m)\u001b[0m\u001b[0;34m\u001b[0m\u001b[0;34m\u001b[0m\u001b[0m\n\u001b[0m\u001b[1;32m    297\u001b[0m \u001b[0;34m\u001b[0m\u001b[0m\n\u001b[1;32m    298\u001b[0m         \u001b[0;32mreturn\u001b[0m \u001b[0mwrapper\u001b[0m\u001b[0;34m\u001b[0m\u001b[0;34m\u001b[0m\u001b[0m\n",
            "\u001b[0;32m/usr/local/lib/python3.6/dist-packages/pandas/io/excel/_base.py\u001b[0m in \u001b[0;36mread_excel\u001b[0;34m(io, sheet_name, header, names, index_col, usecols, squeeze, dtype, engine, converters, true_values, false_values, skiprows, nrows, na_values, keep_default_na, na_filter, verbose, parse_dates, date_parser, thousands, comment, skipfooter, convert_float, mangle_dupe_cols)\u001b[0m\n\u001b[1;32m    302\u001b[0m \u001b[0;34m\u001b[0m\u001b[0m\n\u001b[1;32m    303\u001b[0m     \u001b[0;32mif\u001b[0m \u001b[0;32mnot\u001b[0m \u001b[0misinstance\u001b[0m\u001b[0;34m(\u001b[0m\u001b[0mio\u001b[0m\u001b[0;34m,\u001b[0m \u001b[0mExcelFile\u001b[0m\u001b[0;34m)\u001b[0m\u001b[0;34m:\u001b[0m\u001b[0;34m\u001b[0m\u001b[0;34m\u001b[0m\u001b[0m\n\u001b[0;32m--> 304\u001b[0;31m         \u001b[0mio\u001b[0m \u001b[0;34m=\u001b[0m \u001b[0mExcelFile\u001b[0m\u001b[0;34m(\u001b[0m\u001b[0mio\u001b[0m\u001b[0;34m,\u001b[0m \u001b[0mengine\u001b[0m\u001b[0;34m=\u001b[0m\u001b[0mengine\u001b[0m\u001b[0;34m)\u001b[0m\u001b[0;34m\u001b[0m\u001b[0;34m\u001b[0m\u001b[0m\n\u001b[0m\u001b[1;32m    305\u001b[0m     \u001b[0;32melif\u001b[0m \u001b[0mengine\u001b[0m \u001b[0;32mand\u001b[0m \u001b[0mengine\u001b[0m \u001b[0;34m!=\u001b[0m \u001b[0mio\u001b[0m\u001b[0;34m.\u001b[0m\u001b[0mengine\u001b[0m\u001b[0;34m:\u001b[0m\u001b[0;34m\u001b[0m\u001b[0;34m\u001b[0m\u001b[0m\n\u001b[1;32m    306\u001b[0m         raise ValueError(\n",
            "\u001b[0;32m/usr/local/lib/python3.6/dist-packages/pandas/io/excel/_base.py\u001b[0m in \u001b[0;36m__init__\u001b[0;34m(self, path_or_buffer, engine)\u001b[0m\n\u001b[1;32m    865\u001b[0m         \u001b[0mself\u001b[0m\u001b[0;34m.\u001b[0m\u001b[0m_io\u001b[0m \u001b[0;34m=\u001b[0m \u001b[0mstringify_path\u001b[0m\u001b[0;34m(\u001b[0m\u001b[0mpath_or_buffer\u001b[0m\u001b[0;34m)\u001b[0m\u001b[0;34m\u001b[0m\u001b[0;34m\u001b[0m\u001b[0m\n\u001b[1;32m    866\u001b[0m \u001b[0;34m\u001b[0m\u001b[0m\n\u001b[0;32m--> 867\u001b[0;31m         \u001b[0mself\u001b[0m\u001b[0;34m.\u001b[0m\u001b[0m_reader\u001b[0m \u001b[0;34m=\u001b[0m \u001b[0mself\u001b[0m\u001b[0;34m.\u001b[0m\u001b[0m_engines\u001b[0m\u001b[0;34m[\u001b[0m\u001b[0mengine\u001b[0m\u001b[0;34m]\u001b[0m\u001b[0;34m(\u001b[0m\u001b[0mself\u001b[0m\u001b[0;34m.\u001b[0m\u001b[0m_io\u001b[0m\u001b[0;34m)\u001b[0m\u001b[0;34m\u001b[0m\u001b[0;34m\u001b[0m\u001b[0m\n\u001b[0m\u001b[1;32m    868\u001b[0m \u001b[0;34m\u001b[0m\u001b[0m\n\u001b[1;32m    869\u001b[0m     \u001b[0;32mdef\u001b[0m \u001b[0m__fspath__\u001b[0m\u001b[0;34m(\u001b[0m\u001b[0mself\u001b[0m\u001b[0;34m)\u001b[0m\u001b[0;34m:\u001b[0m\u001b[0;34m\u001b[0m\u001b[0;34m\u001b[0m\u001b[0m\n",
            "\u001b[0;32m/usr/local/lib/python3.6/dist-packages/pandas/io/excel/_xlrd.py\u001b[0m in \u001b[0;36m__init__\u001b[0;34m(self, filepath_or_buffer)\u001b[0m\n\u001b[1;32m     20\u001b[0m         \u001b[0merr_msg\u001b[0m \u001b[0;34m=\u001b[0m \u001b[0;34m\"Install xlrd >= 1.0.0 for Excel support\"\u001b[0m\u001b[0;34m\u001b[0m\u001b[0;34m\u001b[0m\u001b[0m\n\u001b[1;32m     21\u001b[0m         \u001b[0mimport_optional_dependency\u001b[0m\u001b[0;34m(\u001b[0m\u001b[0;34m\"xlrd\"\u001b[0m\u001b[0;34m,\u001b[0m \u001b[0mextra\u001b[0m\u001b[0;34m=\u001b[0m\u001b[0merr_msg\u001b[0m\u001b[0;34m)\u001b[0m\u001b[0;34m\u001b[0m\u001b[0;34m\u001b[0m\u001b[0m\n\u001b[0;32m---> 22\u001b[0;31m         \u001b[0msuper\u001b[0m\u001b[0;34m(\u001b[0m\u001b[0;34m)\u001b[0m\u001b[0;34m.\u001b[0m\u001b[0m__init__\u001b[0m\u001b[0;34m(\u001b[0m\u001b[0mfilepath_or_buffer\u001b[0m\u001b[0;34m)\u001b[0m\u001b[0;34m\u001b[0m\u001b[0;34m\u001b[0m\u001b[0m\n\u001b[0m\u001b[1;32m     23\u001b[0m \u001b[0;34m\u001b[0m\u001b[0m\n\u001b[1;32m     24\u001b[0m     \u001b[0;34m@\u001b[0m\u001b[0mproperty\u001b[0m\u001b[0;34m\u001b[0m\u001b[0;34m\u001b[0m\u001b[0m\n",
            "\u001b[0;32m/usr/local/lib/python3.6/dist-packages/pandas/io/excel/_base.py\u001b[0m in \u001b[0;36m__init__\u001b[0;34m(self, filepath_or_buffer)\u001b[0m\n\u001b[1;32m    351\u001b[0m             \u001b[0mself\u001b[0m\u001b[0;34m.\u001b[0m\u001b[0mbook\u001b[0m \u001b[0;34m=\u001b[0m \u001b[0mself\u001b[0m\u001b[0;34m.\u001b[0m\u001b[0mload_workbook\u001b[0m\u001b[0;34m(\u001b[0m\u001b[0mfilepath_or_buffer\u001b[0m\u001b[0;34m)\u001b[0m\u001b[0;34m\u001b[0m\u001b[0;34m\u001b[0m\u001b[0m\n\u001b[1;32m    352\u001b[0m         \u001b[0;32melif\u001b[0m \u001b[0misinstance\u001b[0m\u001b[0;34m(\u001b[0m\u001b[0mfilepath_or_buffer\u001b[0m\u001b[0;34m,\u001b[0m \u001b[0mstr\u001b[0m\u001b[0;34m)\u001b[0m\u001b[0;34m:\u001b[0m\u001b[0;34m\u001b[0m\u001b[0;34m\u001b[0m\u001b[0m\n\u001b[0;32m--> 353\u001b[0;31m             \u001b[0mself\u001b[0m\u001b[0;34m.\u001b[0m\u001b[0mbook\u001b[0m \u001b[0;34m=\u001b[0m \u001b[0mself\u001b[0m\u001b[0;34m.\u001b[0m\u001b[0mload_workbook\u001b[0m\u001b[0;34m(\u001b[0m\u001b[0mfilepath_or_buffer\u001b[0m\u001b[0;34m)\u001b[0m\u001b[0;34m\u001b[0m\u001b[0;34m\u001b[0m\u001b[0m\n\u001b[0m\u001b[1;32m    354\u001b[0m         \u001b[0;32melif\u001b[0m \u001b[0misinstance\u001b[0m\u001b[0;34m(\u001b[0m\u001b[0mfilepath_or_buffer\u001b[0m\u001b[0;34m,\u001b[0m \u001b[0mbytes\u001b[0m\u001b[0;34m)\u001b[0m\u001b[0;34m:\u001b[0m\u001b[0;34m\u001b[0m\u001b[0;34m\u001b[0m\u001b[0m\n\u001b[1;32m    355\u001b[0m             \u001b[0mself\u001b[0m\u001b[0;34m.\u001b[0m\u001b[0mbook\u001b[0m \u001b[0;34m=\u001b[0m \u001b[0mself\u001b[0m\u001b[0;34m.\u001b[0m\u001b[0mload_workbook\u001b[0m\u001b[0;34m(\u001b[0m\u001b[0mBytesIO\u001b[0m\u001b[0;34m(\u001b[0m\u001b[0mfilepath_or_buffer\u001b[0m\u001b[0;34m)\u001b[0m\u001b[0;34m)\u001b[0m\u001b[0;34m\u001b[0m\u001b[0;34m\u001b[0m\u001b[0m\n",
            "\u001b[0;32m/usr/local/lib/python3.6/dist-packages/pandas/io/excel/_xlrd.py\u001b[0m in \u001b[0;36mload_workbook\u001b[0;34m(self, filepath_or_buffer)\u001b[0m\n\u001b[1;32m     35\u001b[0m             \u001b[0;32mreturn\u001b[0m \u001b[0mopen_workbook\u001b[0m\u001b[0;34m(\u001b[0m\u001b[0mfile_contents\u001b[0m\u001b[0;34m=\u001b[0m\u001b[0mdata\u001b[0m\u001b[0;34m)\u001b[0m\u001b[0;34m\u001b[0m\u001b[0;34m\u001b[0m\u001b[0m\n\u001b[1;32m     36\u001b[0m         \u001b[0;32melse\u001b[0m\u001b[0;34m:\u001b[0m\u001b[0;34m\u001b[0m\u001b[0;34m\u001b[0m\u001b[0m\n\u001b[0;32m---> 37\u001b[0;31m             \u001b[0;32mreturn\u001b[0m \u001b[0mopen_workbook\u001b[0m\u001b[0;34m(\u001b[0m\u001b[0mfilepath_or_buffer\u001b[0m\u001b[0;34m)\u001b[0m\u001b[0;34m\u001b[0m\u001b[0;34m\u001b[0m\u001b[0m\n\u001b[0m\u001b[1;32m     38\u001b[0m \u001b[0;34m\u001b[0m\u001b[0m\n\u001b[1;32m     39\u001b[0m     \u001b[0;34m@\u001b[0m\u001b[0mproperty\u001b[0m\u001b[0;34m\u001b[0m\u001b[0;34m\u001b[0m\u001b[0m\n",
            "\u001b[0;32m/usr/local/lib/python3.6/dist-packages/xlrd/__init__.py\u001b[0m in \u001b[0;36mopen_workbook\u001b[0;34m(filename, logfile, verbosity, use_mmap, file_contents, encoding_override, formatting_info, on_demand, ragged_rows)\u001b[0m\n\u001b[1;32m    114\u001b[0m         \u001b[0mpeek\u001b[0m \u001b[0;34m=\u001b[0m \u001b[0mfile_contents\u001b[0m\u001b[0;34m[\u001b[0m\u001b[0;34m:\u001b[0m\u001b[0mpeeksz\u001b[0m\u001b[0;34m]\u001b[0m\u001b[0;34m\u001b[0m\u001b[0;34m\u001b[0m\u001b[0m\n\u001b[1;32m    115\u001b[0m     \u001b[0;32melse\u001b[0m\u001b[0;34m:\u001b[0m\u001b[0;34m\u001b[0m\u001b[0;34m\u001b[0m\u001b[0m\n\u001b[0;32m--> 116\u001b[0;31m         \u001b[0;32mwith\u001b[0m \u001b[0mopen\u001b[0m\u001b[0;34m(\u001b[0m\u001b[0mfilename\u001b[0m\u001b[0;34m,\u001b[0m \u001b[0;34m\"rb\"\u001b[0m\u001b[0;34m)\u001b[0m \u001b[0;32mas\u001b[0m \u001b[0mf\u001b[0m\u001b[0;34m:\u001b[0m\u001b[0;34m\u001b[0m\u001b[0;34m\u001b[0m\u001b[0m\n\u001b[0m\u001b[1;32m    117\u001b[0m             \u001b[0mpeek\u001b[0m \u001b[0;34m=\u001b[0m \u001b[0mf\u001b[0m\u001b[0;34m.\u001b[0m\u001b[0mread\u001b[0m\u001b[0;34m(\u001b[0m\u001b[0mpeeksz\u001b[0m\u001b[0;34m)\u001b[0m\u001b[0;34m\u001b[0m\u001b[0;34m\u001b[0m\u001b[0m\n\u001b[1;32m    118\u001b[0m     \u001b[0;32mif\u001b[0m \u001b[0mpeek\u001b[0m \u001b[0;34m==\u001b[0m \u001b[0;34mb\"PK\\x03\\x04\"\u001b[0m\u001b[0;34m:\u001b[0m \u001b[0;31m# a ZIP file\u001b[0m\u001b[0;34m\u001b[0m\u001b[0;34m\u001b[0m\u001b[0m\n",
            "\u001b[0;31mFileNotFoundError\u001b[0m: [Errno 2] No such file or directory: 'Crime_US_total.xlsx'"
          ]
        }
      ]
    },
    {
      "cell_type": "code",
      "metadata": {
        "id": "g6UlkjUJNvY6"
      },
      "source": [
        "#Summary of file1, listing statistical measures of Crime_US_Total\n",
        "file1.describe()"
      ],
      "execution_count": null,
      "outputs": []
    },
    {
      "cell_type": "code",
      "metadata": {
        "id": "5nIVJZZuvheI"
      },
      "source": [
        "#Creating a Data Frame\n",
        "source = pd.DataFrame({\n",
        "    'Violent crime total': file1['Violent crime total'],\n",
        "    'Year': file1['Year']\n",
        "})\n",
        "#Create a Bar graph of the total violent crimes per year\n",
        "Chart(source).mark_bar().encode(\n",
        "    x='Year',\n",
        "    y='Violent crime total')"
      ],
      "execution_count": null,
      "outputs": []
    },
    {
      "cell_type": "code",
      "metadata": {
        "id": "pWeVcVrzzkP3"
      },
      "source": [
        "#What year between 1960-2014 had the highest violent crimes?\n",
        "file2 = file1.sort_values(by='Violent crime total', ascending=False)\n",
        "column = file1[\"Violent crime total\"]\n",
        "max_value = column.max()\n",
        "file1['Year'][file1[file1['Violent crime total']== max_value].index.values]"
      ],
      "execution_count": null,
      "outputs": []
    },
    {
      "cell_type": "code",
      "metadata": {
        "id": "CVD1pDhmiW4I"
      },
      "source": [
        "#Scatterplot that shows the increase and decrease in crime rates\n",
        "ax1 = source.plot.scatter(x='Year',\n",
        "                      y='Violent crime total',\n",
        "                      c='DarkBlue')"
      ],
      "execution_count": null,
      "outputs": []
    },
    {
      "cell_type": "markdown",
      "metadata": {
        "id": "WVGRQBMES-Nk"
      },
      "source": [
        "### Describing the data\n",
        "We imported a file named Crime rate 2014.xlsx as a dataframe with the following column names Area which is the state and Rate per 100,000. We got the dataset from : [Data Set Source](https://www.ucrdatatool.gov/Search/Crime/State/RunCrimeOneYearofData.cfm) We got it by selecting all the States and then Violent Crime rates from the Variable groups for the year 2014.\n"
      ]
    },
    {
      "cell_type": "code",
      "metadata": {
        "id": "gVJl8uwB7YVm"
      },
      "source": [
        "#Creating a Data Frame and renaming the columns\n",
        "Crime_rate = pd.read_excel('Crime rate 2014.xlsx')\n",
        "Crime_rate.columns = ['State', 'Crime Rate per 100,000']\n",
        "Crime_rate.head()"
      ],
      "execution_count": null,
      "outputs": []
    },
    {
      "cell_type": "markdown",
      "metadata": {
        "id": "sA8Kjyv-T_D3"
      },
      "source": [
        "### Describing the data\n",
        "We imported a file named Unemployment Rate 2014 by state.xlsx as a dataframe with the following column names State and Unemployment Rate. We got the dataset from : [Data Set Source](https://www.bls.gov/web/laus/laumstrk.htm)"
      ]
    },
    {
      "cell_type": "code",
      "metadata": {
        "id": "Ee6johxq9D2A"
      },
      "source": [
        "#Creating a Data Frame and renaming the columns\n",
        "Unemployment_rate = pd.read_excel('Unemployment Rate 2014 by state.xlsx')\n",
        "#Unemployment_rate.columns = ['State', 'Unemployment Rate']\n",
        "Unemployment_rate.head()"
      ],
      "execution_count": null,
      "outputs": []
    },
    {
      "cell_type": "code",
      "metadata": {
        "id": "paL5zG_I8cBu"
      },
      "source": [
        "#Merging the two datasets\n",
        "Crime_unemp = pd.merge(Crime_rate, Unemployment_rate, left_on=\"State\", right_on=\"State\")\n",
        "s = Crime_unemp.take([1], axis=1)\n",
        "\n",
        "#Creating the Crime Percentage Rate\n",
        "for i in s:\n",
        "  s[i]=s[i]/100\n",
        "\n",
        "#Renaming the columns and showing the crime_unemp dataset which shows the state and the crime and unemployment rates\n",
        "Crime_unemp['Crime Percentage Rate'] = s\n",
        "Crime_unemp.columns = ['State', 'Crime per 100,000', 'Unemployment Rate', 'Crime Percentage Rate']\n",
        "Crime_unemp.head()"
      ],
      "execution_count": null,
      "outputs": []
    },
    {
      "cell_type": "markdown",
      "metadata": {
        "id": "2DmjbTgjZXil"
      },
      "source": [
        "### Describing the data\n",
        "We imported a file named csvData.csv as a dataframe with the following column names State Abbrev for Abbreviation of the state name, and Code which is the code of each state. We got the dataset from : "
      ]
    },
    {
      "cell_type": "code",
      "metadata": {
        "id": "BqUGVBSie02t"
      },
      "source": [
        "#Importing and creating the dataframe\n",
        "usa = pd.read_csv('csvData.csv')\n",
        "usa.head()"
      ],
      "execution_count": null,
      "outputs": []
    },
    {
      "cell_type": "code",
      "metadata": {
        "id": "fwNzRmzwiqnX"
      },
      "source": [
        "#Merging the two dataframes\n",
        "Crime_unemp = pd.merge(Crime_unemp, usa, left_on=\"State\", right_on=\"State\")\n",
        "Crime_unemp.head()"
      ],
      "execution_count": null,
      "outputs": []
    },
    {
      "cell_type": "markdown",
      "metadata": {
        "id": "N98NPAv5N3E9"
      },
      "source": [
        "We utilized the below function to get the sum of all crime and unemployment rate for the US, then divided that number by 50 to get the average rates of the entire US."
      ]
    },
    {
      "cell_type": "code",
      "metadata": {
        "id": "k0OevnIQNs3V"
      },
      "source": [
        "# Calculating the crime rate and unemployment rate of the united states\n",
        "calc1 = pd.DataFrame(Crime_unemp.sum(axis=0)).drop(axis=0, labels=['State','Code', 'Abbrev'])\n",
        "total_usa = calc1[0][0]/(50*100)\n",
        "unemp_usa = calc1[0][1]/50\n",
        "print('The total crime rate in the US is ' + str(total_usa))\n",
        "print('The total unemployment rate in the US is ' + str(\"{:.2f}\".format(unemp_usa))) "
      ],
      "execution_count": null,
      "outputs": []
    },
    {
      "cell_type": "markdown",
      "metadata": {
        "id": "Pvb999luLM0_"
      },
      "source": [
        "The function below was used to plot the Unemployment rate for 2014 as well as the crime percentage rate, a scatterplot was used to get a feel for how our linear regression was going to be set up. "
      ]
    },
    {
      "cell_type": "code",
      "metadata": {
        "id": "RfVy8m65RmaK"
      },
      "source": [
        "#Creating a scatterplot of the Unemployment Rate vs the Crime Rate\n",
        "plot = Crime_unemp.plot.scatter(x='Unemployment Rate',\n",
        "                      y='Crime Percentage Rate',\n",
        "                      c='DarkBlue')"
      ],
      "execution_count": null,
      "outputs": []
    },
    {
      "cell_type": "markdown",
      "metadata": {
        "id": "OzKVgBH_Okh3"
      },
      "source": [
        "### Describing the data\n",
        "The following link was the data we used for the Poverty.xlsx file, allowing us to draw relationships about poverty and crime rate. [Link](https://www.statista.com/statistics/200463/us-poverty-rate-since-1990/) "
      ]
    },
    {
      "cell_type": "code",
      "metadata": {
        "id": "x58_6d98OpIy"
      },
      "source": [
        "Poverty = pd.read_excel('Poverty.xlsx')\n",
        "Poverty.head()"
      ],
      "execution_count": null,
      "outputs": []
    },
    {
      "cell_type": "code",
      "metadata": {
        "id": "Hc4CZDosO7Pq"
      },
      "source": [
        "#Create a scatter lot of poverty and year\n",
        "#2000 is the lowest poverty\n",
        "plt.scatter(Poverty['Year'].values,Poverty['Poverty Rate'].values)\n",
        "plt.plot(Poverty['Year'].values,Poverty['Poverty Rate'].values)\n",
        "plt.show()"
      ],
      "execution_count": null,
      "outputs": []
    },
    {
      "cell_type": "code",
      "metadata": {
        "id": "wCpP1_RpQGhv"
      },
      "source": [
        "#Merging source crime rate over the years with Poverty \n",
        "Crime_poverty = pd.merge(source, Poverty, left_on=\"Year\", right_on=\"Year\")\n",
        "Crime_poverty"
      ],
      "execution_count": null,
      "outputs": []
    },
    {
      "cell_type": "markdown",
      "metadata": {
        "id": "C0QUICRIO1RD"
      },
      "source": [
        "This is a graph showing the relationship between Poverty Rate and Violent crime total."
      ]
    },
    {
      "cell_type": "code",
      "metadata": {
        "id": "WKRwp46dRIZq"
      },
      "source": [
        "ax1 = Crime_poverty.plot.scatter(x='Poverty Rate',\n",
        "                      y='Violent crime total',\n",
        "                      c='DarkBlue')"
      ],
      "execution_count": null,
      "outputs": []
    },
    {
      "cell_type": "markdown",
      "metadata": {
        "id": "H9FNHkDM8K4C"
      },
      "source": [
        "## Analysis"
      ]
    },
    {
      "cell_type": "code",
      "metadata": {
        "id": "G9qY8rNkStqL"
      },
      "source": [
        "#Top 10 Crime Rates of 2014\n",
        "top_10 = Crime_unemp.sort_values(by='Crime Percentage Rate', ascending=False).head(10)\n",
        "top_10"
      ],
      "execution_count": null,
      "outputs": []
    },
    {
      "cell_type": "code",
      "metadata": {
        "id": "1PF8McJPTf74"
      },
      "source": [
        "#Plotting the Unemployment Rate vs the Crime Rate for the top 10 states\n",
        "plot = top_10.plot.scatter(x='Unemployment Rate',\n",
        "                      y='Crime Percentage Rate',\n",
        "                      c='DarkBlue')"
      ],
      "execution_count": null,
      "outputs": []
    },
    {
      "cell_type": "markdown",
      "metadata": {
        "id": "HqsI99NuPElA"
      },
      "source": [
        "The below is a heat map of the crime rate for the United States. "
      ]
    },
    {
      "cell_type": "code",
      "metadata": {
        "id": "Z-JQUKNBZy8r"
      },
      "source": [
        "counties = alt.topo_feature(data.us_10m.url, 'counties') \n",
        "fig = px.choropleth(Crime_unemp,  # Input  DataFrame\n",
        "                    locations=\"Code\",  # DataFrame column with code of the states\n",
        "                    color=\"Crime Percentage Rate\",  # DataFrame column of the crime rate\n",
        "                    hover_name=\"State\", \n",
        "                    locationmode = 'USA-states') # Set to plot as US States\n",
        "fig.update_layout(\n",
        "    title_text = 'State Crime Rate', # Create a Title\n",
        "    geo_scope='usa',  \n",
        ")\n",
        "fig.show() "
      ],
      "execution_count": null,
      "outputs": []
    },
    {
      "cell_type": "code",
      "metadata": {
        "id": "WVUP9F4bcwpU"
      },
      "source": [
        "# Creating the linear regression\n",
        "X = Crime_unemp.iloc[:, 2].values.reshape(-1, 1)  # values converts it into a numpy array\n",
        "Y = Crime_unemp.iloc[:, 3].values.reshape(-1, 1)  # -1 means that calculate the dimension of rows, but have 1 column\n",
        "\n",
        "linear_regressor = LinearRegression()  # create object for the class\n",
        "linear_regressor.fit(X, Y)  # perform linear regression\n",
        "Y_pred = linear_regressor.predict(X) \n",
        "# Result is shown under data visualization"
      ],
      "execution_count": null,
      "outputs": []
    },
    {
      "cell_type": "code",
      "metadata": {
        "id": "jyeW0O2HRfQo"
      },
      "source": [
        "# Creating the linear regression\n",
        "A = Crime_poverty.iloc[:, 2].values.reshape(-1, 1)  # values converts it into a numpy array\n",
        "B = Crime_poverty.iloc[:, 0].values.reshape(-1, 1)  # -1 means that calculate the dimension of rows, but have 1 column\n",
        "\n",
        "linear_regressor = LinearRegression()  # create object for the class\n",
        "linear_regressor.fit(A, B)  # perform linear regression\n",
        "B_pred = linear_regressor.predict(A) \n",
        "# Result is shown under data visualization"
      ],
      "execution_count": null,
      "outputs": []
    },
    {
      "cell_type": "markdown",
      "metadata": {
        "id": "p925O5y8bvsi"
      },
      "source": [
        "### Describing the data\n",
        "We imported a file named Crime_Race.csv as a dataframe with the following column names State and Unemployment Rate. Data source: Arrest estimates for 1980-2014 developed by the Bureau of Justice Statistics and disseminated through'Arrest Data Analysis Tool.' Online. Available from the BJS website.  We got the dataset from : https://www.ojjdp.gov/ojstatbb/crime/ucr.asp?table_in=2&selYrs=2014&rdoGroups=1&rdoData=r\n",
        "\n",
        "Arrest rates by offense and race, 2014 (rates are per 100,000 in age group)"
      ]
    },
    {
      "cell_type": "markdown",
      "metadata": {
        "id": "bKrpcW9QSGQw"
      },
      "source": [
        "We need to offer some very critical information based on the data that was found below. The following disproportionaley shows African Americans as having a higher violent crime rate. What the data fails to mention, is any social context to why the rate is what it is. We did not have enough time to research further into this, and will be leaving this section out of the presentation to limit the opportunity that this data would serve as confirmation bias to an ignorant individual. Given the current climate with our African American citizens in the United States, we believe that the crime rates reported against African Americans are over inflated as a result of a system that fails to uphold them, but rather serves to keep them in constant fear of legal repurcussions. The data certainly does not represent any sentiments that the team and I has, and please let us know if this data needs to be scrapped from the project as a whole. "
      ]
    },
    {
      "cell_type": "code",
      "metadata": {
        "id": "WIRIIjjfYD7y"
      },
      "source": [
        "# Importing the data\n",
        "Race = pd.read_csv('Crime_Race.csv', index_col=0)\n",
        "#More ordanizing the data\n",
        "Race = Race.drop(['Gambling','Drug abuse violations','Prostitution and commercialized vice','Weapons (carrying, possessing, etc.)','Vandalism','Stolen property (buying, receiving, possessing)','Embezzlement','Fraud','Forgery and counterfeiting','Driving under the influence','Liquor laws','Drunkenness','Disorderly conduct','Vagrancy','All other offenses (except traffic)','Curfew and loitering','Property Crime Index','Simple assault','Arson','Motor vehicle theft','Burglary','Larceny-theft','Offenses against the family and children'])\n",
        "Race"
      ],
      "execution_count": null,
      "outputs": []
    },
    {
      "cell_type": "code",
      "metadata": {
        "id": "wZT8D5jcgIpK"
      },
      "source": [
        "#Transposing the data frame\n",
        "Race_transposed = Race.T.drop('All races')\n",
        "Race_transposed"
      ],
      "execution_count": null,
      "outputs": []
    },
    {
      "cell_type": "code",
      "metadata": {
        "id": "59LPDi5zQWGX"
      },
      "source": [
        "ax1 = source.plot.scatter(x='Year',\n",
        "                      y='Violent crime total',\n",
        "                      c='DarkBlue')"
      ],
      "execution_count": null,
      "outputs": []
    },
    {
      "cell_type": "markdown",
      "metadata": {
        "id": "hiWIJcwm8Pq-"
      },
      "source": [
        "## Data Visualization"
      ]
    },
    {
      "cell_type": "markdown",
      "metadata": {
        "id": "xKoer_NzJTox"
      },
      "source": [
        "The below scatterplot shows the linear regression model between the unemployment rate and violent crime rate."
      ]
    },
    {
      "cell_type": "code",
      "metadata": {
        "id": "sn4jZQDrqZrc"
      },
      "source": [
        "plt.scatter(X, Y)\n",
        "plt.plot(X, Y_pred, color='red')\n",
        "plt.show()\n",
        "# Need to add the names of the axes in the graph."
      ],
      "execution_count": null,
      "outputs": []
    },
    {
      "cell_type": "markdown",
      "metadata": {
        "id": "yfjtv4bB_m-x"
      },
      "source": [
        "The below graph shows a representation of the linear relationship between crime rate and poverty level."
      ]
    },
    {
      "cell_type": "code",
      "metadata": {
        "id": "qA7VITg5Rcj6"
      },
      "source": [
        "plt.scatter(A, B)\n",
        "plt.plot(A, B_pred , color='red')\n",
        "plt.show()\n",
        "# Need to add the names of the axes in the graph."
      ],
      "execution_count": null,
      "outputs": []
    },
    {
      "cell_type": "markdown",
      "metadata": {
        "id": "FM-qe1BSJevb"
      },
      "source": [
        "The below map shows a heat map of the United States and illustrates from a dark purple as the state with a low rate of violent crime, to a dark yellow indicating that the state has a high level of violent crime. "
      ]
    },
    {
      "cell_type": "code",
      "metadata": {
        "id": "yH1aOOCBGbPf"
      },
      "source": [
        "counties = alt.topo_feature(data.us_10m.url, 'counties') \n",
        "fig = px.choropleth(Crime_unemp,  # Input Pandas DataFrame\n",
        "                    locations=\"Code\",  \n",
        "                    color=\"Unemployment Rate\",  \n",
        "                    hover_name=\"State\", \n",
        "                    locationmode = 'USA-states') \n",
        "fig.update_layout(\n",
        "    title_text = 'State Rankings', # Create a Title\n",
        "    geo_scope='usa',  # Plot only the USA instead of globe\n",
        ")\n",
        "fig.show() "
      ],
      "execution_count": null,
      "outputs": []
    },
    {
      "cell_type": "code",
      "metadata": {
        "id": "-lz1XGTVFJxe"
      },
      "source": [
        "#Pie Charts of comparing the race  \n",
        "#Pie chart, where the slices will be ordered and plotted counter-clockwise:\n",
        "labels = Race_transposed.index.values\n",
        "Crime_all1 = Race_transposed['All offenses'].values\n",
        "Crime_all2 = Race_transposed['Murder and nonnegligent manslaughter'].values\n",
        "Crime_all3 = Race_transposed['Robbery'].values\n",
        "Crime_all4 = Race_transposed['Violent crimes*'].values\n",
        "fig1, axs = plt.subplots(2,2)\n",
        "plt.rcParams[\"figure.figsize\"] = (10,5)\n",
        "\n",
        "axs[0,0].set_title('All Offenses')\n",
        "axs[0,0].pie(Crime_all1, autopct='%1.1f%%', startangle=90, radius=5 )\n",
        "axs[0,0].axis('equal')  # Equal aspect ratio ensures that pie is drawn as a circle.\n",
        "axs[0,1].set_title('Murder and nonnegligent manslaughter')\n",
        "axs[0,1].pie(Crime_all2, autopct='%1.1f%%', startangle=90, radius=5)\n",
        "axs[0,1].axis('equal') \n",
        "axs[1,0].set_title('Robbery')\n",
        "axs[1,0].pie(Crime_all3, autopct='%1.1f%%', startangle=90, radius=5)\n",
        "axs[1,0].axis('equal') \n",
        "axs[1,1].set_title('Violent crimes')\n",
        "axs[1,1].pie(Crime_all4, autopct='%1.1f%%', startangle=90, radius=5)\n",
        "axs[1,1].axis('equal') \n",
        "\n",
        "\n",
        "plt.legend(\n",
        "    loc='center',\n",
        "    labels=labels,\n",
        "    prop={'size': 15},\n",
        "    bbox_to_anchor=(0.0, 1),\n",
        "    bbox_transform=fig1.transFigure\n",
        ")\n",
        "\n",
        "plt.show()"
      ],
      "execution_count": null,
      "outputs": []
    },
    {
      "cell_type": "markdown",
      "metadata": {
        "id": "-jrBCQrOXPGg"
      },
      "source": [
        "## Summarized Results: Analysis of the datasets\n",
        "\n",
        "1. **Does the data have a sufficient size and credibility fit for data analysis?**\n",
        "Yes, because the dataset has at least 30 samples within it and are from credible government websites.\n",
        "2. **What is the total crime rate in the US?**\n",
        "The total crime per 100,000 people in the United States is 17329.1, giving an estimate of 3.5%. \n",
        "3. **What is the total Unemployment rate in the US** \n",
        "We got that the unemployment rate in the United States is 5.74%\n",
        "4. **Which states in the United states have the highest crime rates?**\n",
        "The top 3 states with the highest crime rate are: Nevada, Alaska, Tennessee. \n",
        "5. **What year between 1960-2014 had the highest violent crimes, and why?**\n",
        "The year with the highest crime rate is 1992, because most states are lacking resources and police officers. According to the Clinton and Gore historical website, widespread instances of gun violence and lack of the aforementioned resources and common sense gun laws triggered contributed in the skyrocketing of crime rate for the US. The Clinto administration enacted several policies to help reduce the level of crime and restrict access to high powered arms. [Reference Link](https://clintonwhitehouse5.archives.gov/WH/Accomplishments/eightyears-06.html)\n",
        "6. **How does unemployment level affect crime rate?**\n",
        "We found out that there is a positive correlation between the unemployment rate and the crime rate in the year 2014, for the 50 states. Therefore, we can conclude that unemployment affects the crime rate.\n",
        "7. **How does poverty level affect crime rate?**\n",
        "Poverty affects the Crime rate ...\n",
        "8. **How does crime rate dispraportionately affect race?**\n",
        "The data represents a disturbing trend in the United States over African Americans being overly incarcerated compared to their caucasian counterparts. We lack the time to pursue valuable social context, but given our current social climate in the United States, it is very evident that African Americans are being treated very disparingly by law enforcement. \n",
        "9. **What can we learn from the relationship between unemployment rate and crime rate.**\n",
        "Between unemployment and crime rate we can see that states with a high unemployment rate have a higher crime rate. \n"
      ]
    },
    {
      "cell_type": "markdown",
      "metadata": {
        "id": "n_ssW-K_XKcp"
      },
      "source": [
        "## Critique\n",
        "We encountered a fair level of challenge analyzing the data and converting it to workable formats that would fit in our code. We converted some percentages to decimals in the Race and Crime Rate Excel sheet, altered the formatting options in the table, as well as omitted what we considered nonessential data amongst all of our Excel tables. We have provided links to the original sources, but felt it necessary to note here why you would encounter differences between our work and the works we cited.  I would recommend additional sources and to expand the data size of future interpretations of unemployment and crime rate relatedness. We were able to see a relationship through our linear regression model, but granted that we are unaware of which locations in each state that the information was pulled from, there are grey data areas. For example we got the hierarchical view of the states totals between crime and unemployment, but that data would benefit from a breakdown by county, city or select regions in each state. The race data that was found also could have benefitted from additional sources as we only have White, Black, American Indian, and Asian included in the current data set. There are many more nationalities that were either not captured, or were mislabeled to fit the needs of the original collector in the data source. In all of this data as well, we lack valuable social context to help explain the surge in crime/unemployment rates over other areas. Going on the data that we have alone, we can only show that there does seem to be a relationship between Crime Rate and Unemployment, further research would be needed to draw meaningful conclusions as to why that is or isn’t the case. \n"
      ]
    },
    {
      "cell_type": "markdown",
      "metadata": {
        "id": "TPGBbR26WnVe"
      },
      "source": [
        "## Learning Process\n",
        "\n",
        "Bryan - The learning process for this project is a lot. I learned a lot especially being able to put all the knowledge that we learned from all of class secessions into this one project. It was while working with the team that I saw how we could be able to draw some conclusions from the data we had which was nice. In this project it gave me a better understanding of using pandas and it's methods and how to better manipulate dataframes. It also helped me learn more about analysis and how to properly read and visualize data. I also learned how to build better and more effective models in this project using Altair. Sadly I wish we had more time to include how education can affect crime rate.\n",
        "\n",
        "Eleni - I started by thinking that we can accomplish lots of things on this project. Ater beginning to work closely I felt like there is not enough time and that there is not much we can do. However, our project worked and I am very proud of the work my teammates and I have put into this. During this project, I learned multiple things. First I worked on collaborating with a team in order to achive a common goal. Also, I learned a lot more about the data analysis methods and how to approach a project from different perspectives. Lastly I learned how to do an effective Exploratory Data Analysis and Data visialization with plotty an matplot.\n",
        "\n",
        "Jeremy - This project became the culmination of my data collection and data exploratory efforts that I have done throughout my academic career. I looked forward to the possibilities that the data could reveal about our given variables, but the time constraints pulled the team and I to a more stripped down and basic analysis of our data. I gained more experience in cleaning data for analysis and performing statistical methods to find relationships between two variables.  I was intrigued to learn that through our data we found a positive relationship between crime and unemployment, and has prompted my curiosity even further to inquire as to why. Could it be that individual's are doing the best with what they have, and to survive they resort to crime rather than employment? Or does crime offer a more lucrative outing than employment in their area due to insignificant compensation packages? Though we don't have more time to explore those questions at length, I can safely say that the project has encouraged me to learn more on my own. "
      ]
    },
    {
      "cell_type": "markdown",
      "metadata": {
        "id": "544rdSrH8Tlm"
      },
      "source": [
        "## Conclusion and Discussion\n",
        "With this data there are several things that can be concluded in the data. One, is that crime from the 1960 has been on the steady rise until 1992 and then crime began to decline and stagenate from 1992 to 2014. Two, there is higher crime rates in the southern US and the mid west US. There is also a postive correlation between crime rate and unemployment rate. This could explain why there is higher crime rates in the southern US as most states in the south relied on coal jobs and since coal jobs are slowly dying out then you can expect unemployment level to increase along with crime rate as people will do illegal things to survive or get paid. This could also explain the midwest region as well such as the state Nevada and New Mexico as they have a very high unemployment rate. Another observation that can be made is that poeverty was dropping from 1994-2000 and that was during Bill Clinton's presidency, then from 2001 onwards poverty was on the rise again during Bush's presidency which involed the war with Iraq and Afghanistan."
      ]
    },
    {
      "cell_type": "markdown",
      "metadata": {
        "id": "KrqsFDWEWe6S"
      },
      "source": [
        "## Resources Used\n",
        "<br>\n",
        "<div id=\"refs\"> Ahmed, B., Abdullah, U., & Akhtar, S. (2019). The Relationship between Education and Crime Analysis (1991-2016): A Case Study of Pakistan. International Journal of Humanities, Arts & Social Sciences, 5(5), 171–182. https://doi-org.berea.idm.oclc.org/10.20469/ijhss.5.20001-5 </div>\n",
        "<br>\n",
        "<div id=\"refs\"> Bureau, U. C. (n.d.). Education. The United States Census Bureau. Retrieved September 29, 2020, from https://www.census.gov/topics/education.html\n",
        " </div>\n",
        "<br>\n",
        "<div id=\"refs\"> Chicago poverty and crime | City of Chicago | Data Portal. (2020). Chicago. Retrieved September 29, 2020, from https://data.cityofchicago.org/Health-Human-Services/Chicago-poverty-and-crime/fwns-pcmk/data\n",
        " </div>\n",
        " <br>\n",
        "<div id=\"refs\"> Crime in the US: All 50 states ranked by murder, violent crime rates. (January 13th, 2020). Retrieved September 29, 2020, from https://www.usatoday.com/story/money/2020/01/13/most-dangerous-states-in-america-violent-crime-murder-rate/40968963/\n",
        " </div>\n",
        "<br>\n",
        "<div id=\"refs\"> DataUNODC |. (n.d.). Retrieved September 29, 2020, from https://dataunodc.un.org/\n",
        " </div>\n",
        "<br>\n",
        "<div id=\"refs\"> Education and Crime—Criminal Justice—IResearchNet. (2020). Criminal Justice. Retrieved September 29, 2020, from https://criminal-justice.iresearchnet.com/crime/education-and-crime/4/\n",
        " </div>\n",
        "<div id=\"refs\"> Education as crime prevention. (1998). Spectrum: Journal of State Government, 71(1), 26.\n",
        " </div>\n",
        "<br>\n",
        "<div id=\"refs\"> Harlow, C. W. (April 15th, 2003.). Education and  Correctional Populations. 12.\n",
        " </div>\n",
        "<br>\n",
        "<div id=\"refs\"> Perry, S. (2020). Tribal Crime Data-Collection Activities, 2020. 9.\n",
        " </div>\n",
        " <br>\n",
        "<div id=\"refs\">The Clinton Presidency: Lowest Crime Rates in a Generation. (n.d.). Retrieved October 1, 2020, from https://clintonwhitehouse5.archives.gov/WH/Accomplishments/eightyears-06.html\n",
        "</div>\n",
        "<br>\n",
        "<div id=\"refs\"> Unemployment Rates for States. (September 18th, 2020). Retrieved September 29, 2020, from https://www.bls.gov/web/laus/laumstrk.htm\n",
        " </div>\n",
        "<br>\n",
        "<div id=\"refs\"> Uniform Crime Reporting Statistics. (n.d.). Retrieved September 29, 2020, from https://www.ucrdatatool.gov/Search/Crime/State/RunCrimeOneYearofData.cfm\n",
        " </div>\n",
        "<br>\n",
        "<div id=\"refs\"> United States Department Of Justice. Office Of Justice Programs. Bureau Of Justice Statistics. (1999). Survey of Adults on Probation, 1995: [United States]: Version 1 [Data set]. ICPSR - Interuniversity Consortium for Political and Social Research. https://doi.org/10.3886/ICPSR02039.V1\n",
        " </div>\n"
      ]
    }
  ]
}